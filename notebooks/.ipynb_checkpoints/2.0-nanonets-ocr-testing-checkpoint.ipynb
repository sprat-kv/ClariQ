{
  "cells": [
    {
      "cell_type": "markdown",
      "metadata": {},
      "source": [
        "# Nanonets OCR Testing and Analysis\n",
        "\n",
        "This notebook tests and analyzes the Nanonets OCR model for policy document processing.\n",
        "It demonstrates the issues with the model and provides working solutions.\n"
      ]
    },
    {
      "cell_type": "markdown",
      "metadata": {},
      "source": [
        "## 1. Setup and Dependencies\n"
      ]
    },
    {
      "cell_type": "code",
      "execution_count": 1,
      "metadata": {},
      "outputs": [
        {
          "ename": "ModuleNotFoundError",
          "evalue": "No module named 'pdf2image'",
          "output_type": "error",
          "traceback": [
            "\u001b[1;31m---------------------------------------------------------------------------\u001b[0m",
            "\u001b[1;31mModuleNotFoundError\u001b[0m                       Traceback (most recent call last)",
            "Cell \u001b[1;32mIn[1], line 8\u001b[0m\n\u001b[0;32m      6\u001b[0m \u001b[38;5;28;01mfrom\u001b[39;00m \u001b[38;5;21;01mPIL\u001b[39;00m \u001b[38;5;28;01mimport\u001b[39;00m Image\n\u001b[0;32m      7\u001b[0m \u001b[38;5;28;01mimport\u001b[39;00m \u001b[38;5;21;01mtorch\u001b[39;00m\n\u001b[1;32m----> 8\u001b[0m \u001b[38;5;28;01mfrom\u001b[39;00m \u001b[38;5;21;01mpdf2image\u001b[39;00m \u001b[38;5;28;01mimport\u001b[39;00m convert_from_path\n\u001b[0;32m      9\u001b[0m \u001b[38;5;28;01mfrom\u001b[39;00m \u001b[38;5;21;01mtransformers\u001b[39;00m \u001b[38;5;28;01mimport\u001b[39;00m AutoTokenizer, AutoProcessor, AutoModelForImageTextToText\n\u001b[0;32m     10\u001b[0m \u001b[38;5;28;01mimport\u001b[39;00m \u001b[38;5;21;01mgc\u001b[39;00m\n",
            "\u001b[1;31mModuleNotFoundError\u001b[0m: No module named 'pdf2image'"
          ]
        }
      ],
      "source": [
        "import os\n",
        "import sys\n",
        "import time\n",
        "from pathlib import Path\n",
        "import logging\n",
        "from PIL import Image\n",
        "import torch\n",
        "from pdf2image import convert_from_path\n",
        "from transformers import AutoTokenizer, AutoProcessor, AutoModelForImageTextToText\n",
        "import gc\n",
        "import pandas as pd\n",
        "\n",
        "# Add the scripts directory to the path so we can import from pdf_to_markdown\n",
        "sys.path.append('../scripts')\n",
        "\n",
        "# Setup logging\n",
        "logging.basicConfig(level=logging.INFO, format='%(asctime)s - %(levelname)s - %(message)s')\n",
        "logger = logging.getLogger(__name__)\n",
        "\n",
        "print(\"✅ Dependencies imported successfully\")\n"
      ]
    },
    {
      "cell_type": "markdown",
      "metadata": {},
      "source": [
        "## 2. Environment Configuration\n"
      ]
    },
    {
      "cell_type": "code",
      "execution_count": null,
      "metadata": {},
      "outputs": [],
      "source": [
        "# Set environment variables for optimization\n",
        "os.environ[\"TRANSFORMERS_VERBOSITY\"] = \"info\"\n",
        "os.environ[\"TOKENIZERS_PARALLELISM\"] = \"false\"\n",
        "os.environ[\"PYTORCH_CUDA_ALLOC_CONF\"] = \"max_split_size_mb:512\"\n",
        "\n",
        "print(\"🔧 Environment configured for OCR testing\")\n",
        "print(f\"CUDA Available: {torch.cuda.is_available()}\")\n",
        "if torch.cuda.is_available():\n",
        "    print(f\"GPU: {torch.cuda.get_device_name()}\")\n",
        "    print(f\"GPU Memory: {torch.cuda.get_device_properties(0).total_memory / 1e9:.1f} GB\")\n",
        "else:\n",
        "    print(\"Using CPU for processing\")\n"
      ]
    },
    {
      "cell_type": "markdown",
      "metadata": {},
      "source": [
        "## 3. Import and Test Existing PDF Processing Methods\n"
      ]
    },
    {
      "cell_type": "code",
      "execution_count": null,
      "metadata": {},
      "outputs": [],
      "source": [
        "# Import the existing PDF to markdown converter\n",
        "try:\n",
        "    from pdf_to_markdown import NanonetsOCRConverter\n",
        "    print(\"✅ Successfully imported NanonetsOCRConverter from pdf_to_markdown\")\n",
        "except ImportError as e:\n",
        "    print(f\"❌ Failed to import: {e}\")\n",
        "    print(\"We'll define a simplified version for testing\")\n"
      ]
    },
    {
      "cell_type": "markdown",
      "metadata": {},
      "source": [
        "## 4. Analyze Available PDF Documents\n"
      ]
    },
    {
      "cell_type": "code",
      "execution_count": null,
      "metadata": {},
      "outputs": [],
      "source": [
        "# Check available PDF files\n",
        "policy_dir = Path(\"../policy_corpus\")\n",
        "pdf_files = list(policy_dir.glob(\"*.pdf\")) if policy_dir.exists() else []\n",
        "\n",
        "print(f\"📁 Found {len(pdf_files)} PDF files:\")\n",
        "for pdf in pdf_files:\n",
        "    size_mb = pdf.stat().st_size / (1024 * 1024)\n",
        "    print(f\"   - {pdf.name}: {size_mb:.1f} MB\")\n",
        "\n",
        "if not pdf_files:\n",
        "    print(\"⚠️ No PDF files found in policy_corpus directory\")\n",
        "else:\n",
        "    # Select the first PDF for testing\n",
        "    test_pdf = pdf_files[0]\n",
        "    print(f\"\\n🎯 Using {test_pdf.name} for testing\")\n"
      ]
    },
    {
      "cell_type": "markdown",
      "metadata": {},
      "source": [
        "## 5. Test PDF to Image Conversion\n"
      ]
    },
    {
      "cell_type": "code",
      "execution_count": null,
      "metadata": {},
      "outputs": [],
      "source": [
        "def test_pdf_to_images(pdf_path: Path, max_pages: int = 2, dpi: int = 150):\n",
        "    \"\"\"Test PDF to image conversion with timing.\"\"\"\n",
        "    \n",
        "    print(f\"🔄 Converting first {max_pages} pages of {pdf_path.name} at {dpi} DPI...\")\n",
        "    start_time = time.time()\n",
        "    \n",
        "    try:\n",
        "        images = convert_from_path(\n",
        "            pdf_path,\n",
        "            dpi=dpi,\n",
        "            fmt='RGB',\n",
        "            first_page=1,\n",
        "            last_page=max_pages\n",
        "        )\n",
        "        \n",
        "        conversion_time = time.time() - start_time\n",
        "        \n",
        "        print(f\"✅ Converted {len(images)} pages in {conversion_time:.2f} seconds\")\n",
        "        \n",
        "        # Analyze image properties\n",
        "        for i, img in enumerate(images, 1):\n",
        "            print(f\"   Page {i}: {img.width}x{img.height} pixels, mode: {img.mode}\")\n",
        "        \n",
        "        return images\n",
        "        \n",
        "    except Exception as e:\n",
        "        print(f\"❌ Failed to convert PDF: {e}\")\n",
        "        return []\n",
        "\n",
        "if pdf_files:\n",
        "    test_images = test_pdf_to_images(test_pdf, max_pages=2)\n"
      ]
    },
    {
      "cell_type": "markdown",
      "metadata": {},
      "source": []
    }
  ],
  "metadata": {
    "kernelspec": {
      "display_name": "base",
      "language": "python",
      "name": "python3"
    },
    "language_info": {
      "codemirror_mode": {
        "name": "ipython",
        "version": 3
      },
      "file_extension": ".py",
      "mimetype": "text/x-python",
      "name": "python",
      "nbconvert_exporter": "python",
      "pygments_lexer": "ipython3",
      "version": "3.12.3"
    }
  },
  "nbformat": 4,
  "nbformat_minor": 2
}
